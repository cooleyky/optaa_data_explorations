{
 "cells": [
  {
   "attachments": {},
   "cell_type": "markdown",
   "metadata": {},
   "source": [
    "# Exploring OPTAA sensor data\n",
    "In preparation for an OOIFB summer school in July 2023, I am developing a baseline knowledge about the spectrophotometer data that is available from OOI. The week-long summer school will educate OOI data users on how to access OPTAA (Spectrophotometer) instrument data, prepare it for analysis, and where the data comes from.\n",
    "\n",
    "I am requesting and downloading data from one of the Coastal Pioneer NES array nodes that had an OPTAA instrument on a more recent deployment. After checking the content and structure of the downloaded dataset, I will plot a couple of different views of the data. I am interested in whether annotated data is already removed from the dataset, and how the visualizations I create will compare to what is currently available at [OOI Data Explorer](https:\\\\dataexplorer.oceanobservatories.org)."
   ]
  },
  {
   "cell_type": "code",
   "execution_count": 2,
   "metadata": {},
   "outputs": [],
   "source": [
    "# Import modules needed for this notebook\n",
    "\n",
    "import ooinet\n",
    "import ooi_data_explorations as ooitools\n",
    "import numpy\n",
    "import pandas\n",
    "import xarray\n",
    "import dask\n",
    "import matplotlib.pyplot as plt\n",
    "\n",
    "# eventually when I have source code in this project folder, I will include the following line:\n",
    "# import optaa_data_explorations as optaa"
   ]
  },
  {
   "cell_type": "code",
   "execution_count": 3,
   "metadata": {},
   "outputs": [],
   "source": [
    "# Pick reference designator for instrument of interest\n",
    "refdes = 'CP03ISSM-RID27-01-OPTAAD000'\n",
    "\n",
    "[site, node, sensor] = refdes.split('-', 2)"
   ]
  },
  {
   "cell_type": "code",
   "execution_count": null,
   "metadata": {},
   "outputs": [],
   "source": [
    "# Show available data recovery methods for refdes\n"
   ]
  },
  {
   "cell_type": "code",
   "execution_count": null,
   "metadata": {},
   "outputs": [],
   "source": [
    "# Show available data streams for refdes and method"
   ]
  },
  {
   "cell_type": "code",
   "execution_count": null,
   "metadata": {},
   "outputs": [],
   "source": [
    "# Show deployments for refdes (& get dates? How will this be used to build the data request?)"
   ]
  }
 ],
 "metadata": {
  "kernelspec": {
   "display_name": "optaa",
   "language": "python",
   "name": "python3"
  },
  "language_info": {
   "codemirror_mode": {
    "name": "ipython",
    "version": 3
   },
   "file_extension": ".py",
   "mimetype": "text/x-python",
   "name": "python",
   "nbconvert_exporter": "python",
   "pygments_lexer": "ipython3",
   "version": "3.11.3"
  },
  "orig_nbformat": 4
 },
 "nbformat": 4,
 "nbformat_minor": 2
}
